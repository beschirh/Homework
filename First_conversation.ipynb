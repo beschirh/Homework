{
  "nbformat": 4,
  "nbformat_minor": 0,
  "metadata": {
    "colab": {
      "provenance": [],
      "authorship_tag": "ABX9TyMTbhAhiNrKPIdWAr5ymdAF",
      "include_colab_link": true
    },
    "kernelspec": {
      "name": "python3",
      "display_name": "Python 3"
    },
    "language_info": {
      "name": "python"
    }
  },
  "cells": [
    {
      "cell_type": "markdown",
      "metadata": {
        "id": "view-in-github",
        "colab_type": "text"
      },
      "source": [
        "<a href=\"https://colab.research.google.com/github/beschirh/Homework/blob/main/First_conversation.ipynb\" target=\"_parent\"><img src=\"https://colab.research.google.com/assets/colab-badge.svg\" alt=\"Open In Colab\"/></a>"
      ]
    },
    {
      "cell_type": "code",
      "source": [
        "print('Hello there! What is your name?\\n')\n",
        "name = input()\n",
        "\n",
        "print('\\n')\n",
        "\n",
        "print('Nice to meet you,',name,'.')\n",
        "print('Where do you live?\\n')\n",
        "city = input()\n",
        "\n",
        "print('\\n')\n",
        "print('So interesting',name,'! I love',city,'.')\n",
        "print('May I ask, about your age,',name,'?\\n')\n",
        "age = input()\n",
        "\n",
        "print('\\n')\n",
        "print('Cool,that means, next year you will be',int(age)+1,'.')\n",
        "print('Have a good day,',name,'.')"
      ],
      "metadata": {
        "colab": {
          "base_uri": "https://localhost:8080/"
        },
        "id": "kw4TzM65iHgK",
        "outputId": "7e77957a-a290-49de-dd36-84da6f863757"
      },
      "execution_count": 39,
      "outputs": [
        {
          "output_type": "stream",
          "name": "stdout",
          "text": [
            "Hello there! What is your name?\n",
            "\n",
            "Beschir\n",
            "\n",
            "\n",
            "Nice to meet you, Beschir .\n",
            "Where do you live?\n",
            "\n",
            "Berlin\n",
            "\n",
            "\n",
            "So interesting Beschir ! I love Berlin .\n",
            "May I ask, about your age, Beschir ?\n",
            "\n",
            "38\n",
            "\n",
            "\n",
            "Cool,that means, next year you will be 39 .\n",
            "Have a good day, Beschir .\n"
          ]
        }
      ]
    }
  ]
}